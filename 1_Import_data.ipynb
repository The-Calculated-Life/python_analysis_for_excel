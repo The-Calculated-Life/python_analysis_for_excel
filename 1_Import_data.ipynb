{
  "nbformat": 4,
  "nbformat_minor": 0,
  "metadata": {
    "colab": {
      "name": "1-Import data.ipynb",
      "provenance": [],
      "collapsed_sections": [],
      "toc_visible": true,
      "authorship_tag": "ABX9TyMiEQGz3bD8E10oYDZXtBqr",
      "include_colab_link": true
    },
    "kernelspec": {
      "name": "python3",
      "display_name": "Python 3"
    }
  },
  "cells": [
    {
      "cell_type": "markdown",
      "metadata": {
        "id": "view-in-github",
        "colab_type": "text"
      },
      "source": [
        "<a href=\"https://colab.research.google.com/github/The-Calculated-Life/python_analysis_for_excel/blob/main/1_Import_data.ipynb\" target=\"_parent\"><img src=\"https://colab.research.google.com/assets/colab-badge.svg\" alt=\"Open In Colab\"/></a>"
      ]
    },
    {
      "cell_type": "markdown",
      "metadata": {
        "id": "Beh6bUquc8zo"
      },
      "source": [
        "# Project Template: Insert Project Title Here\n",
        "\n",
        "\n",
        "---\n",
        "\n"
      ]
    },
    {
      "cell_type": "markdown",
      "metadata": {
        "id": "RoiUjv9SAVw4"
      },
      "source": [
        "<br>\n",
        "\n",
        "***Project structure:***\n",
        "\n",
        "\n",
        "1.   Define the objective\n",
        "2.   Import packages and data\n",
        "3.   Explore and analyze"
      ]
    },
    {
      "cell_type": "markdown",
      "metadata": {
        "id": "v5GMyFPqvq4b"
      },
      "source": [
        "<br>\n",
        "\n",
        "## **Objective**\n",
        "---\n",
        "\n",
        "*Analyze the [Kiva.org](https://www.kiva.org/) lending platform. Understand how much money has been borrowed, for what purpose, and where the borrowers live.*\n",
        "\n",
        "<br>\n",
        "\n",
        "In particular, we want to answer the following groups of questions:\n",
        "\n",
        "\n",
        "\n",
        "1.   How much money has been borrowed through Kiva's lending platform? How has the amount of funding changed over time?\n",
        "2.   How much funding has been provided by category (theme)? What are the largest categories?\n",
        "3.   How does funding vary by world region? What are the most popular themes in each region?\n"
      ]
    },
    {
      "cell_type": "markdown",
      "metadata": {
        "id": "t_1p93R0CQDO"
      },
      "source": [
        "<br><br>\n",
        "\n",
        "## **Import packages and data**\n",
        "---"
      ]
    },
    {
      "cell_type": "markdown",
      "metadata": {
        "id": "yVtOOe3HC0yO"
      },
      "source": [
        "Replace this text with information about your data source. You may want to include a link to the data source.\n",
        "\n",
        "The goal is to make this notebook as clear as possible for our future self, other analysts and decision makers."
      ]
    },
    {
      "cell_type": "code",
      "metadata": {
        "id": "WO-1RNZBCtz9"
      },
      "source": [
        "# Import packages\n",
        "import numpy as np\n",
        "import pandas as pd\n",
        "import matplotlib.pyplot as plt"
      ],
      "execution_count": 7,
      "outputs": []
    },
    {
      "cell_type": "code",
      "metadata": {
        "id": "2DUDJre1DbTg"
      },
      "source": [
        "# Import data\n",
        "kiva_loans_path = 'https://media.githubusercontent.com/media/The-Calculated-Life/python_analysis_for_excel/main/data/kiva_loans.csv'\n",
        "locations_path = 'https://raw.githubusercontent.com/The-Calculated-Life/python_analysis_for_excel/main/data/kiva_mpi_region_locations.csv'\n",
        "themes_path = 'https://raw.githubusercontent.com/The-Calculated-Life/python_analysis_for_excel/main/data/loan_theme_ids.csv'\n",
        "region_themes_path = 'https://raw.githubusercontent.com/The-Calculated-Life/python_analysis_for_excel/main/data/loan_themes_by_region.csv'\n",
        "\n",
        "kiva_loans = pd.read_csv(kiva_loans_path)\n",
        "locations = pd.read_csv(locations_path)\n",
        "themes = pd.read_csv(themes_path)\n",
        "region_themes = pd.read_csv(region_themes_path)"
      ],
      "execution_count": 8,
      "outputs": []
    },
    {
      "cell_type": "markdown",
      "metadata": {
        "id": "xgdhnFQKCQLx"
      },
      "source": [
        "<br><br>\n",
        "\n",
        "## **Explore and Analyze**\n",
        "---"
      ]
    },
    {
      "cell_type": "markdown",
      "metadata": {
        "id": "00B-AzZpDx-o"
      },
      "source": [
        "You can also include notes here. Feel free to also include text between code cells throughout the notebook."
      ]
    },
    {
      "cell_type": "code",
      "metadata": {
        "id": "BSURHqdaCuQJ"
      },
      "source": [
        "# Perform common cleaning operations like checking for missing data, removing duplicates and splitting columns\n",
        "# Create summary tables, new variables, etc...\n",
        "# Create charts"
      ],
      "execution_count": null,
      "outputs": []
    },
    {
      "cell_type": "code",
      "metadata": {
        "id": "EFLcxLjjUn85",
        "outputId": "5c1ee083-90a0-4cda-86ba-5b10dbc76566",
        "colab": {
          "base_uri": "https://localhost:8080/"
        }
      },
      "source": [
        "kiva_loans.shape"
      ],
      "execution_count": 21,
      "outputs": [
        {
          "output_type": "execute_result",
          "data": {
            "text/plain": [
              "(671205, 20)"
            ]
          },
          "metadata": {
            "tags": []
          },
          "execution_count": 21
        }
      ]
    },
    {
      "cell_type": "code",
      "metadata": {
        "id": "uaDKc83MQ-Yp",
        "outputId": "fb63fcd9-1eb3-4590-c5f8-aa8325b1fed3",
        "colab": {
          "base_uri": "https://localhost:8080/",
          "height": 581
        }
      },
      "source": [
        "kiva_loans.head()"
      ],
      "execution_count": 9,
      "outputs": [
        {
          "output_type": "execute_result",
          "data": {
            "text/html": [
              "<div>\n",
              "<style scoped>\n",
              "    .dataframe tbody tr th:only-of-type {\n",
              "        vertical-align: middle;\n",
              "    }\n",
              "\n",
              "    .dataframe tbody tr th {\n",
              "        vertical-align: top;\n",
              "    }\n",
              "\n",
              "    .dataframe thead th {\n",
              "        text-align: right;\n",
              "    }\n",
              "</style>\n",
              "<table border=\"1\" class=\"dataframe\">\n",
              "  <thead>\n",
              "    <tr style=\"text-align: right;\">\n",
              "      <th></th>\n",
              "      <th>id</th>\n",
              "      <th>funded_amount</th>\n",
              "      <th>loan_amount</th>\n",
              "      <th>activity</th>\n",
              "      <th>sector</th>\n",
              "      <th>use</th>\n",
              "      <th>country_code</th>\n",
              "      <th>country</th>\n",
              "      <th>region</th>\n",
              "      <th>currency</th>\n",
              "      <th>partner_id</th>\n",
              "      <th>posted_time</th>\n",
              "      <th>disbursed_time</th>\n",
              "      <th>funded_time</th>\n",
              "      <th>term_in_months</th>\n",
              "      <th>lender_count</th>\n",
              "      <th>tags</th>\n",
              "      <th>borrower_genders</th>\n",
              "      <th>repayment_interval</th>\n",
              "      <th>date</th>\n",
              "    </tr>\n",
              "  </thead>\n",
              "  <tbody>\n",
              "    <tr>\n",
              "      <th>0</th>\n",
              "      <td>653051</td>\n",
              "      <td>300.0</td>\n",
              "      <td>300.0</td>\n",
              "      <td>Fruits &amp; Vegetables</td>\n",
              "      <td>Food</td>\n",
              "      <td>To buy seasonal, fresh fruits to sell.</td>\n",
              "      <td>PK</td>\n",
              "      <td>Pakistan</td>\n",
              "      <td>Lahore</td>\n",
              "      <td>PKR</td>\n",
              "      <td>247.0</td>\n",
              "      <td>2014-01-01 06:12:39+00:00</td>\n",
              "      <td>2013-12-17 08:00:00+00:00</td>\n",
              "      <td>2014-01-02 10:06:32+00:00</td>\n",
              "      <td>12.0</td>\n",
              "      <td>12</td>\n",
              "      <td>NaN</td>\n",
              "      <td>female</td>\n",
              "      <td>irregular</td>\n",
              "      <td>2014-01-01</td>\n",
              "    </tr>\n",
              "    <tr>\n",
              "      <th>1</th>\n",
              "      <td>653053</td>\n",
              "      <td>575.0</td>\n",
              "      <td>575.0</td>\n",
              "      <td>Rickshaw</td>\n",
              "      <td>Transportation</td>\n",
              "      <td>to repair and maintain the auto rickshaw used ...</td>\n",
              "      <td>PK</td>\n",
              "      <td>Pakistan</td>\n",
              "      <td>Lahore</td>\n",
              "      <td>PKR</td>\n",
              "      <td>247.0</td>\n",
              "      <td>2014-01-01 06:51:08+00:00</td>\n",
              "      <td>2013-12-17 08:00:00+00:00</td>\n",
              "      <td>2014-01-02 09:17:23+00:00</td>\n",
              "      <td>11.0</td>\n",
              "      <td>14</td>\n",
              "      <td>NaN</td>\n",
              "      <td>female, female</td>\n",
              "      <td>irregular</td>\n",
              "      <td>2014-01-01</td>\n",
              "    </tr>\n",
              "    <tr>\n",
              "      <th>2</th>\n",
              "      <td>653068</td>\n",
              "      <td>150.0</td>\n",
              "      <td>150.0</td>\n",
              "      <td>Transportation</td>\n",
              "      <td>Transportation</td>\n",
              "      <td>To repair their old cycle-van and buy another ...</td>\n",
              "      <td>IN</td>\n",
              "      <td>India</td>\n",
              "      <td>Maynaguri</td>\n",
              "      <td>INR</td>\n",
              "      <td>334.0</td>\n",
              "      <td>2014-01-01 09:58:07+00:00</td>\n",
              "      <td>2013-12-17 08:00:00+00:00</td>\n",
              "      <td>2014-01-01 16:01:36+00:00</td>\n",
              "      <td>43.0</td>\n",
              "      <td>6</td>\n",
              "      <td>user_favorite, user_favorite</td>\n",
              "      <td>female</td>\n",
              "      <td>bullet</td>\n",
              "      <td>2014-01-01</td>\n",
              "    </tr>\n",
              "    <tr>\n",
              "      <th>3</th>\n",
              "      <td>653063</td>\n",
              "      <td>200.0</td>\n",
              "      <td>200.0</td>\n",
              "      <td>Embroidery</td>\n",
              "      <td>Arts</td>\n",
              "      <td>to purchase an embroidery machine and a variet...</td>\n",
              "      <td>PK</td>\n",
              "      <td>Pakistan</td>\n",
              "      <td>Lahore</td>\n",
              "      <td>PKR</td>\n",
              "      <td>247.0</td>\n",
              "      <td>2014-01-01 08:03:11+00:00</td>\n",
              "      <td>2013-12-24 08:00:00+00:00</td>\n",
              "      <td>2014-01-01 13:00:00+00:00</td>\n",
              "      <td>11.0</td>\n",
              "      <td>8</td>\n",
              "      <td>NaN</td>\n",
              "      <td>female</td>\n",
              "      <td>irregular</td>\n",
              "      <td>2014-01-01</td>\n",
              "    </tr>\n",
              "    <tr>\n",
              "      <th>4</th>\n",
              "      <td>653084</td>\n",
              "      <td>400.0</td>\n",
              "      <td>400.0</td>\n",
              "      <td>Milk Sales</td>\n",
              "      <td>Food</td>\n",
              "      <td>to purchase one buffalo.</td>\n",
              "      <td>PK</td>\n",
              "      <td>Pakistan</td>\n",
              "      <td>Abdul Hakeem</td>\n",
              "      <td>PKR</td>\n",
              "      <td>245.0</td>\n",
              "      <td>2014-01-01 11:53:19+00:00</td>\n",
              "      <td>2013-12-17 08:00:00+00:00</td>\n",
              "      <td>2014-01-01 19:18:51+00:00</td>\n",
              "      <td>14.0</td>\n",
              "      <td>16</td>\n",
              "      <td>NaN</td>\n",
              "      <td>female</td>\n",
              "      <td>monthly</td>\n",
              "      <td>2014-01-01</td>\n",
              "    </tr>\n",
              "  </tbody>\n",
              "</table>\n",
              "</div>"
            ],
            "text/plain": [
              "       id  funded_amount  ...  repayment_interval        date\n",
              "0  653051          300.0  ...           irregular  2014-01-01\n",
              "1  653053          575.0  ...           irregular  2014-01-01\n",
              "2  653068          150.0  ...              bullet  2014-01-01\n",
              "3  653063          200.0  ...           irregular  2014-01-01\n",
              "4  653084          400.0  ...             monthly  2014-01-01\n",
              "\n",
              "[5 rows x 20 columns]"
            ]
          },
          "metadata": {
            "tags": []
          },
          "execution_count": 9
        }
      ]
    },
    {
      "cell_type": "code",
      "metadata": {
        "id": "gUN_Hx0IRGBf",
        "outputId": "3d54bf4a-6ff8-4e02-b9e1-200d5793c3e2",
        "colab": {
          "base_uri": "https://localhost:8080/",
          "height": 204
        }
      },
      "source": [
        "locations.head()"
      ],
      "execution_count": 10,
      "outputs": [
        {
          "output_type": "execute_result",
          "data": {
            "text/html": [
              "<div>\n",
              "<style scoped>\n",
              "    .dataframe tbody tr th:only-of-type {\n",
              "        vertical-align: middle;\n",
              "    }\n",
              "\n",
              "    .dataframe tbody tr th {\n",
              "        vertical-align: top;\n",
              "    }\n",
              "\n",
              "    .dataframe thead th {\n",
              "        text-align: right;\n",
              "    }\n",
              "</style>\n",
              "<table border=\"1\" class=\"dataframe\">\n",
              "  <thead>\n",
              "    <tr style=\"text-align: right;\">\n",
              "      <th></th>\n",
              "      <th>LocationName</th>\n",
              "      <th>ISO</th>\n",
              "      <th>country</th>\n",
              "      <th>region</th>\n",
              "      <th>world_region</th>\n",
              "      <th>MPI</th>\n",
              "      <th>geo</th>\n",
              "      <th>lat</th>\n",
              "      <th>lon</th>\n",
              "    </tr>\n",
              "  </thead>\n",
              "  <tbody>\n",
              "    <tr>\n",
              "      <th>0</th>\n",
              "      <td>Badakhshan, Afghanistan</td>\n",
              "      <td>AFG</td>\n",
              "      <td>Afghanistan</td>\n",
              "      <td>Badakhshan</td>\n",
              "      <td>South Asia</td>\n",
              "      <td>0.387</td>\n",
              "      <td>(36.7347725, 70.81199529999999)</td>\n",
              "      <td>36.734772</td>\n",
              "      <td>70.811995</td>\n",
              "    </tr>\n",
              "    <tr>\n",
              "      <th>1</th>\n",
              "      <td>Badghis, Afghanistan</td>\n",
              "      <td>AFG</td>\n",
              "      <td>Afghanistan</td>\n",
              "      <td>Badghis</td>\n",
              "      <td>South Asia</td>\n",
              "      <td>0.466</td>\n",
              "      <td>(35.1671339, 63.7695384)</td>\n",
              "      <td>35.167134</td>\n",
              "      <td>63.769538</td>\n",
              "    </tr>\n",
              "    <tr>\n",
              "      <th>2</th>\n",
              "      <td>Baghlan, Afghanistan</td>\n",
              "      <td>AFG</td>\n",
              "      <td>Afghanistan</td>\n",
              "      <td>Baghlan</td>\n",
              "      <td>South Asia</td>\n",
              "      <td>0.300</td>\n",
              "      <td>(35.8042947, 69.2877535)</td>\n",
              "      <td>35.804295</td>\n",
              "      <td>69.287754</td>\n",
              "    </tr>\n",
              "    <tr>\n",
              "      <th>3</th>\n",
              "      <td>Balkh, Afghanistan</td>\n",
              "      <td>AFG</td>\n",
              "      <td>Afghanistan</td>\n",
              "      <td>Balkh</td>\n",
              "      <td>South Asia</td>\n",
              "      <td>0.301</td>\n",
              "      <td>(36.7550603, 66.8975372)</td>\n",
              "      <td>36.755060</td>\n",
              "      <td>66.897537</td>\n",
              "    </tr>\n",
              "    <tr>\n",
              "      <th>4</th>\n",
              "      <td>Bamyan, Afghanistan</td>\n",
              "      <td>AFG</td>\n",
              "      <td>Afghanistan</td>\n",
              "      <td>Bamyan</td>\n",
              "      <td>South Asia</td>\n",
              "      <td>0.325</td>\n",
              "      <td>(34.8100067, 67.8212104)</td>\n",
              "      <td>34.810007</td>\n",
              "      <td>67.821210</td>\n",
              "    </tr>\n",
              "  </tbody>\n",
              "</table>\n",
              "</div>"
            ],
            "text/plain": [
              "              LocationName  ISO  ...        lat        lon\n",
              "0  Badakhshan, Afghanistan  AFG  ...  36.734772  70.811995\n",
              "1     Badghis, Afghanistan  AFG  ...  35.167134  63.769538\n",
              "2     Baghlan, Afghanistan  AFG  ...  35.804295  69.287754\n",
              "3       Balkh, Afghanistan  AFG  ...  36.755060  66.897537\n",
              "4      Bamyan, Afghanistan  AFG  ...  34.810007  67.821210\n",
              "\n",
              "[5 rows x 9 columns]"
            ]
          },
          "metadata": {
            "tags": []
          },
          "execution_count": 10
        }
      ]
    },
    {
      "cell_type": "code",
      "metadata": {
        "id": "VdLTsZeuUrPX",
        "outputId": "526dce5a-63f9-4bd6-8ac4-30e4e77c3f39",
        "colab": {
          "base_uri": "https://localhost:8080/"
        }
      },
      "source": [
        "locations.shape"
      ],
      "execution_count": 22,
      "outputs": [
        {
          "output_type": "execute_result",
          "data": {
            "text/plain": [
              "(2772, 9)"
            ]
          },
          "metadata": {
            "tags": []
          },
          "execution_count": 22
        }
      ]
    },
    {
      "cell_type": "code",
      "metadata": {
        "id": "OToQhHH-RIaH",
        "outputId": "560c7739-7f4d-4aec-b14e-b7715c876ac3",
        "colab": {
          "base_uri": "https://localhost:8080/",
          "height": 204
        }
      },
      "source": [
        "themes.head()"
      ],
      "execution_count": 11,
      "outputs": [
        {
          "output_type": "execute_result",
          "data": {
            "text/html": [
              "<div>\n",
              "<style scoped>\n",
              "    .dataframe tbody tr th:only-of-type {\n",
              "        vertical-align: middle;\n",
              "    }\n",
              "\n",
              "    .dataframe tbody tr th {\n",
              "        vertical-align: top;\n",
              "    }\n",
              "\n",
              "    .dataframe thead th {\n",
              "        text-align: right;\n",
              "    }\n",
              "</style>\n",
              "<table border=\"1\" class=\"dataframe\">\n",
              "  <thead>\n",
              "    <tr style=\"text-align: right;\">\n",
              "      <th></th>\n",
              "      <th>id</th>\n",
              "      <th>Loan Theme ID</th>\n",
              "      <th>Loan Theme Type</th>\n",
              "      <th>Partner ID</th>\n",
              "    </tr>\n",
              "  </thead>\n",
              "  <tbody>\n",
              "    <tr>\n",
              "      <th>0</th>\n",
              "      <td>638631</td>\n",
              "      <td>a1050000000skGl</td>\n",
              "      <td>General</td>\n",
              "      <td>151.0</td>\n",
              "    </tr>\n",
              "    <tr>\n",
              "      <th>1</th>\n",
              "      <td>640322</td>\n",
              "      <td>a1050000000skGl</td>\n",
              "      <td>General</td>\n",
              "      <td>151.0</td>\n",
              "    </tr>\n",
              "    <tr>\n",
              "      <th>2</th>\n",
              "      <td>641006</td>\n",
              "      <td>a1050000002X1ij</td>\n",
              "      <td>Higher Education</td>\n",
              "      <td>160.0</td>\n",
              "    </tr>\n",
              "    <tr>\n",
              "      <th>3</th>\n",
              "      <td>641019</td>\n",
              "      <td>a1050000002X1ij</td>\n",
              "      <td>Higher Education</td>\n",
              "      <td>160.0</td>\n",
              "    </tr>\n",
              "    <tr>\n",
              "      <th>4</th>\n",
              "      <td>641594</td>\n",
              "      <td>a1050000002VbsW</td>\n",
              "      <td>Subsistence Agriculture</td>\n",
              "      <td>336.0</td>\n",
              "    </tr>\n",
              "  </tbody>\n",
              "</table>\n",
              "</div>"
            ],
            "text/plain": [
              "       id    Loan Theme ID          Loan Theme Type  Partner ID\n",
              "0  638631  a1050000000skGl                  General       151.0\n",
              "1  640322  a1050000000skGl                  General       151.0\n",
              "2  641006  a1050000002X1ij         Higher Education       160.0\n",
              "3  641019  a1050000002X1ij         Higher Education       160.0\n",
              "4  641594  a1050000002VbsW  Subsistence Agriculture       336.0"
            ]
          },
          "metadata": {
            "tags": []
          },
          "execution_count": 11
        }
      ]
    },
    {
      "cell_type": "code",
      "metadata": {
        "id": "OvRU1fj-Us9v",
        "outputId": "3e188f12-b2df-4d01-9bf8-05ed620d888b",
        "colab": {
          "base_uri": "https://localhost:8080/"
        }
      },
      "source": [
        "themes.shape"
      ],
      "execution_count": 23,
      "outputs": [
        {
          "output_type": "execute_result",
          "data": {
            "text/plain": [
              "(779092, 4)"
            ]
          },
          "metadata": {
            "tags": []
          },
          "execution_count": 23
        }
      ]
    },
    {
      "cell_type": "code",
      "metadata": {
        "id": "kC3LJzjJRKb_",
        "outputId": "48b7210e-2112-437f-fb19-d7c236c1fa87",
        "colab": {
          "base_uri": "https://localhost:8080/",
          "height": 479
        }
      },
      "source": [
        "region_themes.head()"
      ],
      "execution_count": 12,
      "outputs": [
        {
          "output_type": "execute_result",
          "data": {
            "text/html": [
              "<div>\n",
              "<style scoped>\n",
              "    .dataframe tbody tr th:only-of-type {\n",
              "        vertical-align: middle;\n",
              "    }\n",
              "\n",
              "    .dataframe tbody tr th {\n",
              "        vertical-align: top;\n",
              "    }\n",
              "\n",
              "    .dataframe thead th {\n",
              "        text-align: right;\n",
              "    }\n",
              "</style>\n",
              "<table border=\"1\" class=\"dataframe\">\n",
              "  <thead>\n",
              "    <tr style=\"text-align: right;\">\n",
              "      <th></th>\n",
              "      <th>Partner ID</th>\n",
              "      <th>Field Partner Name</th>\n",
              "      <th>sector</th>\n",
              "      <th>Loan Theme ID</th>\n",
              "      <th>Loan Theme Type</th>\n",
              "      <th>country</th>\n",
              "      <th>forkiva</th>\n",
              "      <th>region</th>\n",
              "      <th>geocode_old</th>\n",
              "      <th>ISO</th>\n",
              "      <th>number</th>\n",
              "      <th>amount</th>\n",
              "      <th>LocationName</th>\n",
              "      <th>geocode</th>\n",
              "      <th>names</th>\n",
              "      <th>geo</th>\n",
              "      <th>lat</th>\n",
              "      <th>lon</th>\n",
              "      <th>mpi_region</th>\n",
              "      <th>mpi_geo</th>\n",
              "      <th>rural_pct</th>\n",
              "    </tr>\n",
              "  </thead>\n",
              "  <tbody>\n",
              "    <tr>\n",
              "      <th>0</th>\n",
              "      <td>9</td>\n",
              "      <td>KREDIT Microfinance Institution</td>\n",
              "      <td>General Financial Inclusion</td>\n",
              "      <td>a1050000000slfi</td>\n",
              "      <td>Higher Education</td>\n",
              "      <td>Cambodia</td>\n",
              "      <td>No</td>\n",
              "      <td>Banteay Meanchey</td>\n",
              "      <td>(13.75, 103.0)</td>\n",
              "      <td>KHM</td>\n",
              "      <td>1</td>\n",
              "      <td>450</td>\n",
              "      <td>Banteay Meanchey, Cambodia</td>\n",
              "      <td>[(13.6672596, 102.8975098)]</td>\n",
              "      <td>Banteay Meanchey Province; Cambodia</td>\n",
              "      <td>(13.6672596, 102.8975098)</td>\n",
              "      <td>13.667260</td>\n",
              "      <td>102.897510</td>\n",
              "      <td>Banteay Mean Chey, Cambodia</td>\n",
              "      <td>(13.6672596, 102.8975098)</td>\n",
              "      <td>90.0</td>\n",
              "    </tr>\n",
              "    <tr>\n",
              "      <th>1</th>\n",
              "      <td>9</td>\n",
              "      <td>KREDIT Microfinance Institution</td>\n",
              "      <td>General Financial Inclusion</td>\n",
              "      <td>a10500000068jPe</td>\n",
              "      <td>Vulnerable Populations</td>\n",
              "      <td>Cambodia</td>\n",
              "      <td>No</td>\n",
              "      <td>Battambang Province</td>\n",
              "      <td>NaN</td>\n",
              "      <td>KHM</td>\n",
              "      <td>58</td>\n",
              "      <td>20275</td>\n",
              "      <td>Battambang Province, Cambodia</td>\n",
              "      <td>[(13.0286971, 102.989615)]</td>\n",
              "      <td>Battambang Province; Cambodia</td>\n",
              "      <td>(13.0286971, 102.989615)</td>\n",
              "      <td>13.028697</td>\n",
              "      <td>102.989615</td>\n",
              "      <td>Banteay Mean Chey, Cambodia</td>\n",
              "      <td>(13.6672596, 102.8975098)</td>\n",
              "      <td>90.0</td>\n",
              "    </tr>\n",
              "    <tr>\n",
              "      <th>2</th>\n",
              "      <td>9</td>\n",
              "      <td>KREDIT Microfinance Institution</td>\n",
              "      <td>General Financial Inclusion</td>\n",
              "      <td>a1050000000slfi</td>\n",
              "      <td>Higher Education</td>\n",
              "      <td>Cambodia</td>\n",
              "      <td>No</td>\n",
              "      <td>Battambang Province</td>\n",
              "      <td>NaN</td>\n",
              "      <td>KHM</td>\n",
              "      <td>7</td>\n",
              "      <td>9150</td>\n",
              "      <td>Battambang Province, Cambodia</td>\n",
              "      <td>[(13.0286971, 102.989615)]</td>\n",
              "      <td>Battambang Province; Cambodia</td>\n",
              "      <td>(13.0286971, 102.989615)</td>\n",
              "      <td>13.028697</td>\n",
              "      <td>102.989615</td>\n",
              "      <td>Banteay Mean Chey, Cambodia</td>\n",
              "      <td>(13.6672596, 102.8975098)</td>\n",
              "      <td>90.0</td>\n",
              "    </tr>\n",
              "    <tr>\n",
              "      <th>3</th>\n",
              "      <td>9</td>\n",
              "      <td>KREDIT Microfinance Institution</td>\n",
              "      <td>General Financial Inclusion</td>\n",
              "      <td>a10500000068jPe</td>\n",
              "      <td>Vulnerable Populations</td>\n",
              "      <td>Cambodia</td>\n",
              "      <td>No</td>\n",
              "      <td>Kampong Cham Province</td>\n",
              "      <td>(12.0, 105.5)</td>\n",
              "      <td>KHM</td>\n",
              "      <td>1383</td>\n",
              "      <td>604950</td>\n",
              "      <td>Kampong Cham Province, Cambodia</td>\n",
              "      <td>[(12.0982918, 105.3131185)]</td>\n",
              "      <td>Kampong Cham Province; Cambodia</td>\n",
              "      <td>(12.0982918, 105.3131185)</td>\n",
              "      <td>12.098292</td>\n",
              "      <td>105.313119</td>\n",
              "      <td>Kampong Cham, Cambodia</td>\n",
              "      <td>(11.9924294, 105.4645408)</td>\n",
              "      <td>90.0</td>\n",
              "    </tr>\n",
              "    <tr>\n",
              "      <th>4</th>\n",
              "      <td>9</td>\n",
              "      <td>KREDIT Microfinance Institution</td>\n",
              "      <td>General Financial Inclusion</td>\n",
              "      <td>a1050000002X1Uu</td>\n",
              "      <td>Sanitation</td>\n",
              "      <td>Cambodia</td>\n",
              "      <td>No</td>\n",
              "      <td>Kampong Cham Province</td>\n",
              "      <td>(12.0, 105.5)</td>\n",
              "      <td>KHM</td>\n",
              "      <td>3</td>\n",
              "      <td>275</td>\n",
              "      <td>Kampong Cham Province, Cambodia</td>\n",
              "      <td>[(12.0982918, 105.3131185)]</td>\n",
              "      <td>Kampong Cham Province; Cambodia</td>\n",
              "      <td>(12.0982918, 105.3131185)</td>\n",
              "      <td>12.098292</td>\n",
              "      <td>105.313119</td>\n",
              "      <td>Kampong Cham, Cambodia</td>\n",
              "      <td>(11.9924294, 105.4645408)</td>\n",
              "      <td>90.0</td>\n",
              "    </tr>\n",
              "  </tbody>\n",
              "</table>\n",
              "</div>"
            ],
            "text/plain": [
              "   Partner ID  ... rural_pct\n",
              "0           9  ...      90.0\n",
              "1           9  ...      90.0\n",
              "2           9  ...      90.0\n",
              "3           9  ...      90.0\n",
              "4           9  ...      90.0\n",
              "\n",
              "[5 rows x 21 columns]"
            ]
          },
          "metadata": {
            "tags": []
          },
          "execution_count": 12
        }
      ]
    },
    {
      "cell_type": "code",
      "metadata": {
        "id": "JgZU_66wUwLO",
        "outputId": "d80ff79e-f4f6-44d6-fdc5-ddf75a238f7c",
        "colab": {
          "base_uri": "https://localhost:8080/"
        }
      },
      "source": [
        "region_themes.shape"
      ],
      "execution_count": 24,
      "outputs": [
        {
          "output_type": "execute_result",
          "data": {
            "text/plain": [
              "(15736, 21)"
            ]
          },
          "metadata": {
            "tags": []
          },
          "execution_count": 24
        }
      ]
    },
    {
      "cell_type": "code",
      "metadata": {
        "id": "UKGM6HqmR6Xf",
        "outputId": "fa309e66-ea98-4682-effa-fcd5ec949556",
        "colab": {
          "base_uri": "https://localhost:8080/",
          "height": 419
        }
      },
      "source": [
        "locations.loc[:, 'ISO':'MPI'].dropna()"
      ],
      "execution_count": 20,
      "outputs": [
        {
          "output_type": "execute_result",
          "data": {
            "text/html": [
              "<div>\n",
              "<style scoped>\n",
              "    .dataframe tbody tr th:only-of-type {\n",
              "        vertical-align: middle;\n",
              "    }\n",
              "\n",
              "    .dataframe tbody tr th {\n",
              "        vertical-align: top;\n",
              "    }\n",
              "\n",
              "    .dataframe thead th {\n",
              "        text-align: right;\n",
              "    }\n",
              "</style>\n",
              "<table border=\"1\" class=\"dataframe\">\n",
              "  <thead>\n",
              "    <tr style=\"text-align: right;\">\n",
              "      <th></th>\n",
              "      <th>ISO</th>\n",
              "      <th>country</th>\n",
              "      <th>region</th>\n",
              "      <th>world_region</th>\n",
              "      <th>MPI</th>\n",
              "    </tr>\n",
              "  </thead>\n",
              "  <tbody>\n",
              "    <tr>\n",
              "      <th>0</th>\n",
              "      <td>AFG</td>\n",
              "      <td>Afghanistan</td>\n",
              "      <td>Badakhshan</td>\n",
              "      <td>South Asia</td>\n",
              "      <td>0.387</td>\n",
              "    </tr>\n",
              "    <tr>\n",
              "      <th>1</th>\n",
              "      <td>AFG</td>\n",
              "      <td>Afghanistan</td>\n",
              "      <td>Badghis</td>\n",
              "      <td>South Asia</td>\n",
              "      <td>0.466</td>\n",
              "    </tr>\n",
              "    <tr>\n",
              "      <th>2</th>\n",
              "      <td>AFG</td>\n",
              "      <td>Afghanistan</td>\n",
              "      <td>Baghlan</td>\n",
              "      <td>South Asia</td>\n",
              "      <td>0.300</td>\n",
              "    </tr>\n",
              "    <tr>\n",
              "      <th>3</th>\n",
              "      <td>AFG</td>\n",
              "      <td>Afghanistan</td>\n",
              "      <td>Balkh</td>\n",
              "      <td>South Asia</td>\n",
              "      <td>0.301</td>\n",
              "    </tr>\n",
              "    <tr>\n",
              "      <th>4</th>\n",
              "      <td>AFG</td>\n",
              "      <td>Afghanistan</td>\n",
              "      <td>Bamyan</td>\n",
              "      <td>South Asia</td>\n",
              "      <td>0.325</td>\n",
              "    </tr>\n",
              "    <tr>\n",
              "      <th>...</th>\n",
              "      <td>...</td>\n",
              "      <td>...</td>\n",
              "      <td>...</td>\n",
              "      <td>...</td>\n",
              "      <td>...</td>\n",
              "    </tr>\n",
              "    <tr>\n",
              "      <th>1003</th>\n",
              "      <td>ZWE</td>\n",
              "      <td>Zimbabwe</td>\n",
              "      <td>Mashonaland West</td>\n",
              "      <td>Sub-Saharan Africa</td>\n",
              "      <td>0.192</td>\n",
              "    </tr>\n",
              "    <tr>\n",
              "      <th>1004</th>\n",
              "      <td>ZWE</td>\n",
              "      <td>Zimbabwe</td>\n",
              "      <td>Masvingo</td>\n",
              "      <td>Sub-Saharan Africa</td>\n",
              "      <td>0.174</td>\n",
              "    </tr>\n",
              "    <tr>\n",
              "      <th>1005</th>\n",
              "      <td>ZWE</td>\n",
              "      <td>Zimbabwe</td>\n",
              "      <td>Matabeleland North</td>\n",
              "      <td>Sub-Saharan Africa</td>\n",
              "      <td>0.238</td>\n",
              "    </tr>\n",
              "    <tr>\n",
              "      <th>1006</th>\n",
              "      <td>ZWE</td>\n",
              "      <td>Zimbabwe</td>\n",
              "      <td>Matabeleland South</td>\n",
              "      <td>Sub-Saharan Africa</td>\n",
              "      <td>0.164</td>\n",
              "    </tr>\n",
              "    <tr>\n",
              "      <th>1007</th>\n",
              "      <td>ZWE</td>\n",
              "      <td>Zimbabwe</td>\n",
              "      <td>Midlands</td>\n",
              "      <td>Sub-Saharan Africa</td>\n",
              "      <td>0.176</td>\n",
              "    </tr>\n",
              "  </tbody>\n",
              "</table>\n",
              "<p>984 rows × 5 columns</p>\n",
              "</div>"
            ],
            "text/plain": [
              "      ISO      country              region        world_region    MPI\n",
              "0     AFG  Afghanistan          Badakhshan          South Asia  0.387\n",
              "1     AFG  Afghanistan             Badghis          South Asia  0.466\n",
              "2     AFG  Afghanistan             Baghlan          South Asia  0.300\n",
              "3     AFG  Afghanistan               Balkh          South Asia  0.301\n",
              "4     AFG  Afghanistan              Bamyan          South Asia  0.325\n",
              "...   ...          ...                 ...                 ...    ...\n",
              "1003  ZWE     Zimbabwe    Mashonaland West  Sub-Saharan Africa  0.192\n",
              "1004  ZWE     Zimbabwe            Masvingo  Sub-Saharan Africa  0.174\n",
              "1005  ZWE     Zimbabwe  Matabeleland North  Sub-Saharan Africa  0.238\n",
              "1006  ZWE     Zimbabwe  Matabeleland South  Sub-Saharan Africa  0.164\n",
              "1007  ZWE     Zimbabwe            Midlands  Sub-Saharan Africa  0.176\n",
              "\n",
              "[984 rows x 5 columns]"
            ]
          },
          "metadata": {
            "tags": []
          },
          "execution_count": 20
        }
      ]
    }
  ]
}